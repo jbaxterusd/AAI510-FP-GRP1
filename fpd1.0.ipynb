{
 "cells": [
  {
   "cell_type": "markdown",
   "metadata": {},
   "source": [
    "### Final Project  \n",
    "Course:  \n",
    "Semester: Summer 2025  \n",
    "Institution: University of San Diego  \n",
    "  \n",
    "### Project Details  \n",
    "Project Title:  \n",
    "Authors: Greg Moore, Zachary Artman, Jack Baxter  \n",
    "Instructor: David Friesen  \n",
    "Submission Date: 06/23/2025  \n",
    "  \n",
    "### Dependencies  \n",
    "Python [3.9 or higher]  \n",
    "Jupyter Notebook  \n",
    "kagglehub (or download the dataset from [here](https://www.kaggle.com/datasets/usdot/flight-delays))  \n",
    "Libraries: [pandas, numpy, scikit-learn, matplotlib]  \n"
   ]
  },
  {
   "cell_type": "code",
   "execution_count": 1,
   "metadata": {},
   "outputs": [],
   "source": [
    "#import required libraries\n",
    "import pandas as pd\n",
    "import seaborn as sns\n",
    "import matplotlib.pyplot as plt\n",
    "%matplotlib inline\n",
    "from sklearn import tree \n",
    "from sklearn.ensemble import RandomForestClassifier\n",
    "from sklearn.ensemble import RandomForestRegressor\n",
    "from sklearn.model_selection import train_test_split,  RandomizedSearchCV\n",
    "from sklearn import metrics\n",
    "from scipy.stats import randint\n",
    "from xgboost import XGBClassifier, plot_importance\n",
    "from scipy.stats import f_oneway\n",
    "from sklearn.preprocessing import LabelEncoder\n",
    "from sklearn.feature_selection import mutual_info_regression\n",
    "import kagglehub\n",
    "import numpy as np\n",
    "from sklearn.metrics import classification_report, confusion_matrix, roc_auc_score\n",
    "import xgboost as xgb_mod\n",
    "from sklearn.linear_model import LogisticRegression\n"
   ]
  },
  {
   "cell_type": "markdown",
   "metadata": {},
   "source": [
    "## Problem statement and justification for the proposed approach.\n",
    "When a flight is delayed, the engine is left running while the plane sits idle on the tarmac. While inevitable, for every 30 minutes a flight is delayed the airline burns $1,500-3000 in fuel cost. Similarly, airlines are required to pay crews 10-15% more for unplanned delays. At large airports, the daily toll of the extra wage is $500-2000 per airline (Airlines for America A4A 2023 report). With the Airline Dataset, our project aims to leverage ML strategies to predict a delay based on previous patterns by airline and airport. With this prediction, airlines have foresight to best manage, reroute or cancel flights, saving thousands of dollars daily from a business perspective. Additionally, flights identified by AI to consistently be delayed, or certain times that an airport is more likely to experience a delay can allow for more advanced flight planning to avoid unnecessary costs, and boost customer/traveler satisfaction rates. Specific ML models have yet to be chosen for our project, but once more EDA is performed to garner insight on the data itself, an ideal model/ensemble will be selected.\n"
   ]
  },
  {
   "cell_type": "markdown",
   "metadata": {},
   "source": [
    "## Data understanding (EDA)"
   ]
  },
  {
   "cell_type": "code",
   "execution_count": null,
   "metadata": {},
   "outputs": [],
   "source": [
    "#create dataframe\n",
    "path = kagglehub.dataset_download(\"usdot/flight-delays\")\n",
    "airlinedata = pd.read_csv(f\"{path}/flights.csv\")\n",
    "airlinedata.head()"
   ]
  },
  {
   "cell_type": "code",
   "execution_count": null,
   "metadata": {},
   "outputs": [],
   "source": [
    "#data summary and column description\n",
    "sum = airlinedata.shape #shape data\n",
    "print(\"airlinedata(row, col):\",sum,\"\\r\\n\") \n",
    "for col in airlinedata.columns: #print data by col \n",
    "    print(airlinedata[col].describe()) "
   ]
  },
  {
   "cell_type": "code",
   "execution_count": null,
   "metadata": {},
   "outputs": [],
   "source": [
    "#explore variables / remove uneccessary delay categories \n",
    "cols = list(airlinedata.columns)\n",
    "i = 0\n",
    "for vals in cols: \n",
    "    print(cols[i])\n",
    "    i = i+1"
   ]
  },
  {
   "cell_type": "code",
   "execution_count": null,
   "metadata": {},
   "outputs": [],
   "source": [
    "#evaluate and remove columns with significant null values \n",
    "nulls = airlinedata.isna().sum()\n",
    "print(nulls)"
   ]
  },
  {
   "cell_type": "markdown",
   "metadata": {},
   "source": [
    "## Data preparation & feature engineering"
   ]
  },
  {
   "cell_type": "code",
   "execution_count": 6,
   "metadata": {},
   "outputs": [],
   "source": [
    "#remove the columns with abundant nulls, remove remaining NAs\n",
    "nons = ['CANCELLATION_REASON','WEATHER_DELAY', 'LATE_AIRCRAFT_DELAY', 'AIRLINE_DELAY', 'SECURITY_DELAY', 'AIR_SYSTEM_DELAY']\n",
    "airlinedata.drop(nons, axis=1, inplace=True)\n",
    "airlinedata.dropna(inplace=True)"
   ]
  },
  {
   "cell_type": "code",
   "execution_count": null,
   "metadata": {},
   "outputs": [],
   "source": [
    "#remove unecessary information and drop NAN values \n",
    "shape = airlinedata.shape #shape data\n",
    "print(shape)"
   ]
  },
  {
   "cell_type": "code",
   "execution_count": null,
   "metadata": {},
   "outputs": [],
   "source": [
    "#garner delay by airline visual for EDA \n",
    "plt.figure(figsize=(12, 6))\n",
    "sns.boxplot(x='AIRLINE', y='DEPARTURE_DELAY', data=airlinedata)\n",
    "plt.xticks(rotation=45)\n",
    "plt.title('Delay Distribution by Airline')\n",
    "plt.xlabel('Airline')\n",
    "plt.ylabel('Delay (minutes)')\n",
    "plt.tight_layout()\n",
    "plt.show()"
   ]
  },
  {
   "cell_type": "code",
   "execution_count": null,
   "metadata": {},
   "outputs": [],
   "source": [
    "#pivot visualization for month/day delay averages \n",
    "pivot_table = airlinedata.pivot_table(values='DEPARTURE_DELAY', index='MONTH', columns='DAY_OF_WEEK', aggfunc='mean')\n",
    "plt.figure(figsize=(10, 8))\n",
    "sns.heatmap(pivot_table, annot=True, cmap='RdYlGn_r', fmt='.1f')\n",
    "plt.title('Average Delay by Month and Day of Week')\n",
    "plt.xlabel('Day of Week')\n",
    "plt.ylabel('Month')\n",
    "plt.tight_layout()\n",
    "plt.show()"
   ]
  },
  {
   "cell_type": "code",
   "execution_count": null,
   "metadata": {},
   "outputs": [],
   "source": [
    "#check numerical cols for correlation \n",
    "numerical_cols = ['SCHEDULED_DEPARTURE', 'TAXI_OUT', 'DISTANCE', 'SCHEDULED_TIME', 'DEPARTURE_DELAY']\n",
    "corr_matrix = airlinedata[numerical_cols].corr()\n",
    "plt.figure(figsize=(8, 6))\n",
    "sns.heatmap(corr_matrix, annot=True, cmap='coolwarm', fmt='.2f')\n",
    "plt.title('Correlation Heatmap of Numerical Features')\n",
    "plt.tight_layout()\n",
    "plt.show()"
   ]
  },
  {
   "cell_type": "code",
   "execution_count": null,
   "metadata": {},
   "outputs": [],
   "source": [
    "#inspect most frequent airports for potential outliers\n",
    "top_airports = airlinedata['ORIGIN_AIRPORT'].value_counts().index[:20]\n",
    "plt.figure(figsize=(12, 6))\n",
    "sns.barplot(x='ORIGIN_AIRPORT', y='DEPARTURE_DELAY', data=airlinedata[airlinedata['ORIGIN_AIRPORT'].isin(top_airports)])\n",
    "plt.xticks(rotation=45)\n",
    "plt.title('Average Departure Delay by Origin Airport (Top 20)')\n",
    "plt.xlabel('Origin Airport')\n",
    "plt.ylabel('Average Departure Delay (minutes)')\n",
    "plt.tight_layout()\n",
    "plt.show()"
   ]
  },
  {
   "cell_type": "code",
   "execution_count": null,
   "metadata": {},
   "outputs": [],
   "source": [
    "#visual for delay by scheduled time of day \n",
    "plt.figure(figsize=(10, 6))\n",
    "sns.scatterplot(x='SCHEDULED_DEPARTURE', y='DEPARTURE_DELAY', data=airlinedata, alpha=0.5)\n",
    "plt.title('Departure Delay vs. Scheduled Departure Time')\n",
    "plt.xlabel('Scheduled Departure (minutes past midnight)')\n",
    "plt.ylabel('Departure Delay (minutes)')\n",
    "plt.tight_layout()\n",
    "plt.show()"
   ]
  },
  {
   "cell_type": "code",
   "execution_count": null,
   "metadata": {},
   "outputs": [],
   "source": [
    "#evaluate numerical columns for correlation with delays \n",
    "nums = ['YEAR', 'MONTH', 'DAY', 'DAY_OF_WEEK', 'SCHEDULED_DEPARTURE', 'TAXI_OUT', \n",
    "                 'SCHEDULED_TIME', 'DISTANCE', 'TAXI_IN', 'SCHEDULED_ARRIVAL', 'DEPARTURE_DELAY']\n",
    "corrmat = airlinedata[nums].corr()\n",
    "correlations = corrmat['DEPARTURE_DELAY'].sort_values(ascending=False)\n",
    "print(\"Correlation with DEPARTURE_DELAY:\")\n",
    "print(correlations)\n",
    "plt.figure(figsize=(10, 8))\n",
    "sns.heatmap(corrmat, annot=True, cmap='coolwarm', fmt='.2f', vmin=-1, vmax=1)\n",
    "plt.title('Correlation Heatmap of Numerical Features')\n",
    "plt.tight_layout()\n",
    "plt.show()"
   ]
  },
  {
   "cell_type": "markdown",
   "metadata": {},
   "source": [
    "## Feature Selection"
   ]
  },
  {
   "cell_type": "code",
   "execution_count": null,
   "metadata": {},
   "outputs": [],
   "source": [
    "#create random forest for feature importance evaluation \n",
    "airlinedatajan = airlinedata[airlinedata['MONTH'] == 1]\n",
    "forestairlines = airlinedatajan.dropna(subset=['DEPARTURE_DELAY'])\n",
    "cats = ['AIRLINE', 'ORIGIN_AIRPORT', 'DESTINATION_AIRPORT', 'TAIL_NUMBER']\n",
    "for col in cats:\n",
    "    le = LabelEncoder()\n",
    "    forestairlines[col] = le.fit_transform(forestairlines[col].astype(str))\n",
    "vars = ['MONTH', 'DAY', 'DAY_OF_WEEK', 'AIRLINE', 'FLIGHT_NUMBER', 'TAIL_NUMBER', \n",
    "                    'ORIGIN_AIRPORT', 'DESTINATION_AIRPORT', 'SCHEDULED_DEPARTURE', 'DEPARTURE_TIME', \n",
    "                      'TAXI_OUT', 'WHEELS_OFF', 'SCHEDULED_TIME', 'ELAPSED_TIME', 'AIR_TIME', 'DISTANCE', 'WHEELS_ON', 'TAXI_IN', \n",
    "                      'SCHEDULED_ARRIVAL', 'ARRIVAL_TIME', 'DIVERTED', 'CANCELLED']\n",
    "xvars = forestairlines[vars]\n",
    "yvars = forestairlines['DEPARTURE_DELAY']\n",
    "redwoodforest = RandomForestRegressor(n_estimators=10, random_state=42)\n",
    "redwoodforest.fit(xvars, yvars)\n",
    "whatsimportant = pd.Series(redwoodforest.feature_importances_, index=vars).sort_values(ascending=False)\n",
    "print(\"Feature Importances:\")\n",
    "print(whatsimportant)"
   ]
  },
  {
   "cell_type": "code",
   "execution_count": null,
   "metadata": {},
   "outputs": [],
   "source": []
  },
  {
   "cell_type": "markdown",
   "metadata": {},
   "source": [
    "**How were the features selected based on the data analysis?**"
   ]
  },
  {
   "cell_type": "markdown",
   "metadata": {},
   "source": [
    "## Modeling"
   ]
  },
  {
   "cell_type": "code",
   "execution_count": null,
   "metadata": {},
   "outputs": [],
   "source": [
    "# Remove rows where the DEPARTURE_DELAY value is missing (NaN)\n",
    "airlinedata_clean = airlinedata.dropna(subset=['DEPARTURE_DELAY'])\n",
    "\n",
    "# Select the categories and the predictors\n",
    "cats = ['AIRLINE', 'ORIGIN_AIRPORT', 'DESTINATION_AIRPORT', 'TAIL_NUMBER']\n",
    "features = ['YEAR', 'MONTH', 'DAY', 'DAY_OF_WEEK', 'AIRLINE', 'FLIGHT_NUMBER', 'TAIL_NUMBER',\n",
    "            'ORIGIN_AIRPORT', 'DESTINATION_AIRPORT', 'SCHEDULED_DEPARTURE', 'DISTANCE']\n",
    "\n",
    "# Convert delay times to classes\n",
    "# DEPARTURE_DELAY\t    Departure Status\n",
    "# 0\t\t\t            On Time\n",
    "# Negative number (< 0)\tEarly\n",
    "# Positive number (> 0)\tDelayed\n",
    "conditions = [\n",
    "    airlinedata_clean['DEPARTURE_DELAY'] == 0,\n",
    "    airlinedata_clean['DEPARTURE_DELAY'] < 0,\n",
    "    airlinedata_clean['DEPARTURE_DELAY'] > 0\n",
    "]\n",
    "\n",
    "# Choose the 3 different departure status\n",
    "choices = ['On Time', 'Early', 'Delayed']\n",
    "\n",
    "# Convert to the 3 classes\n",
    "airlinedata_clean.loc[:, 'DEPARTURE_DELAY'] = np.select(conditions, choices, default='On Time')\n",
    "\n",
    "# Set variables for train/test split\n",
    "X = airlinedata_clean[features].copy()\n",
    "y = airlinedata_clean['DEPARTURE_DELAY']\n",
    "\n",
    "# Encode categorical variables\n",
    "for col in cats:\n",
    "    le = LabelEncoder()\n",
    "    X[col] = le.fit_transform(X[col].astype(str))\n",
    "\n",
    "# Convert ['On Time', 'Early', 'Delayed'] to [2, 1, 0]\n",
    "le = LabelEncoder()\n",
    "y_encoded = le.fit_transform(y)"
   ]
  },
  {
   "cell_type": "code",
   "execution_count": null,
   "metadata": {},
   "outputs": [],
   "source": [
    "y_encoded"
   ]
  },
  {
   "cell_type": "markdown",
   "metadata": {},
   "source": [
    "### Model 1 - Random Forest"
   ]
  },
  {
   "cell_type": "markdown",
   "metadata": {},
   "source": [
    "Features selected: SCHEDULED_DEPARTURE, ORIGIN_AIRPORT, AIRLINE, DAY_OF_WEEK, MONTH, DESTINATION_AIRPORT, FLIGHT_NUMBER, TAIL_NUMBER, DAY, TAXI_OUT"
   ]
  },
  {
   "cell_type": "code",
   "execution_count": null,
   "metadata": {},
   "outputs": [],
   "source": [
    "# select RF features\n",
    "rf_feats = ['SCHEDULED_DEPARTURE','ORIGIN_AIRPORT','AIRLINE',\n",
    "            'DAY_OF_WEEK','MONTH','DESTINATION_AIRPORT',\n",
    "            'FLIGHT_NUMBER','TAIL_NUMBER','DAY','TAXI_OUT']\n",
    "X_rf = airlinedata_clean[rf_feats].copy()\n",
    "y_rf = y_encoded.copy()\n",
    "\n",
    "# encode the categoricals\n",
    "for col in ['ORIGIN_AIRPORT','DESTINATION_AIRPORT','AIRLINE','TAIL_NUMBER']:\n",
    "    le = LabelEncoder()\n",
    "    X_rf[col] = le.fit_transform(X_rf[col].astype(str))\n",
    "\n",
    "# split\n",
    "X_rf_train, X_rf_test, y_rf_train, y_rf_test = train_test_split(\n",
    "    X_rf, y_rf, test_size=0.2, random_state=42, stratify=y_rf)\n",
    "\n",
    "# train\n",
    "rf = RandomForestClassifier(random_state=42)\n",
    "rf.fit(X_rf_train, y_rf_train)\n",
    "\n",
    "# eval\n",
    "y_rf_pred = rf.predict(X_rf_test)\n",
    "y_rf_proba = rf.predict_proba(X_rf_test)\n",
    "print(\"RF: Classification Report:\", classification_report(y_rf_test, y_rf_pred))\n",
    "print(\"RF: ROC AUC (ovr):\", roc_auc_score(y_rf_test, y_rf_proba, multi_class='ovr'))"
   ]
  },
  {
   "cell_type": "markdown",
   "metadata": {},
   "source": [
    "### Model 2 - Logistic Regression"
   ]
  },
  {
   "cell_type": "code",
   "execution_count": null,
   "metadata": {},
   "outputs": [],
   "source": [
    "# reuse RF feature list\n",
    "lr_feats = ['SCHEDULED_DEPARTURE','ORIGIN_AIRPORT','AIRLINE',\n",
    "            'DAY_OF_WEEK','MONTH','DESTINATION_AIRPORT',\n",
    "            'FLIGHT_NUMBER','TAIL_NUMBER','DAY','TAXI_OUT']\n",
    "X_lr = airlinedata_clean[lr_feats].copy()\n",
    "y_lr = y_encoded.copy()\n",
    "\n",
    "# encode categoricals\n",
    "for col in ['ORIGIN_AIRPORT','DESTINATION_AIRPORT','AIRLINE','TAIL_NUMBER']:\n",
    "    le = LabelEncoder()\n",
    "    X_lr[col] = le.fit_transform(X_lr[col].astype(str))\n",
    "\n",
    "# split\n",
    "X_lr_train, X_lr_test, y_lr_train, y_lr_test = train_test_split(\n",
    "    X_lr, y_lr, test_size=0.2, random_state=42, stratify=y_lr)\n",
    "\n",
    "# train\n",
    "lr = LogisticRegression(random_state=42, multi_class='multinomial', solver='lbfgs', max_iter=1000)\n",
    "lr.fit(X_lr_train, y_lr_train)\n",
    "\n",
    "# eval\n",
    "y_lr_pred = lr.predict(X_lr_test)\n",
    "y_lr_proba = lr.predict_proba(X_lr_test)\n",
    "print(\"LR: Classification Report:\", classification_report(y_lr_test, y_lr_pred))\n",
    "print(\"LR: ROC AUC (ovr):\", roc_auc_score(y_lr_test, y_lr_proba, multi_class='ovr'))"
   ]
  },
  {
   "cell_type": "markdown",
   "metadata": {},
   "source": [
    "### Model 3 - XG Boost"
   ]
  },
  {
   "cell_type": "code",
   "execution_count": null,
   "metadata": {},
   "outputs": [],
   "source": [
    "X_train, X_test, y_train, y_test = train_test_split(X, y_encoded, test_size=0.2, random_state=42, stratify=y)\n",
    "\n",
    "# Use XGBoost model classifier\n",
    "xgb = XGBClassifier(use_label_encoder=False, eval_metric='logloss', random_state=42)\n",
    "\n",
    "# Train the XGBoost model\n",
    "xgb.fit(X_train, y_train)\n",
    "\n",
    "# Evaluation Metrics for XGB\n",
    "# Use trained XGBoost model (xgb) to predict the class labels\n",
    "y_pred = xgb.predict(X_test)\n",
    "# Array of predicted class labels (0, 1, 2 for multiclass classification)\n",
    "y_proba = xgb.predict_proba(X_test)\n",
    "\n",
    "print(\"XGBoost: Classification Report:\", classification_report(y_test, y_pred))\n",
    "\n",
    "# Model ability to distinguish between classes (1.0 = perfect)\n",
    "print(\"XGBoost: ROC AUC (ovr):\", roc_auc_score(y_test, y_proba, multi_class='ovr'))"
   ]
  },
  {
   "cell_type": "markdown",
   "metadata": {},
   "source": [
    "**selection, comparison, tuning, and analysis – consider ensembles**"
   ]
  },
  {
   "cell_type": "markdown",
   "metadata": {},
   "source": [
    "## Evaluation"
   ]
  },
  {
   "cell_type": "code",
   "execution_count": null,
   "metadata": {},
   "outputs": [],
   "source": [
    "xgb_mod.plot_importance(xgb)\n",
    "plt.show()"
   ]
  },
  {
   "cell_type": "markdown",
   "metadata": {},
   "source": [
    "**performance measures, results, and conclusions**"
   ]
  },
  {
   "cell_type": "markdown",
   "metadata": {},
   "source": [
    "## Deployment"
   ]
  },
  {
   "cell_type": "markdown",
   "metadata": {},
   "source": [
    "**A discussion of either the hypothetical deployment of the model or the actual deployment of the model if it has been deployed.**"
   ]
  },
  {
   "cell_type": "markdown",
   "metadata": {},
   "source": [
    "## Discussion and conclusions"
   ]
  },
  {
   "cell_type": "markdown",
   "metadata": {},
   "source": [
    "**address the problem statement and recommendation**"
   ]
  }
 ],
 "metadata": {
  "kernelspec": {
   "display_name": "py310",
   "language": "python",
   "name": "python3"
  },
  "language_info": {
   "codemirror_mode": {
    "name": "ipython",
    "version": 3
   },
   "file_extension": ".py",
   "mimetype": "text/x-python",
   "name": "python",
   "nbconvert_exporter": "python",
   "pygments_lexer": "ipython3",
   "version": "3.10.18"
  }
 },
 "nbformat": 4,
 "nbformat_minor": 2
}
